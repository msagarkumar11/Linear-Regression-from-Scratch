{
  "nbformat": 4,
  "nbformat_minor": 0,
  "metadata": {
    "colab": {
      "provenance": []
    },
    "kernelspec": {
      "name": "python3",
      "display_name": "Python 3"
    },
    "language_info": {
      "name": "python"
    }
  },
  "cells": [
    {
      "cell_type": "markdown",
      "source": [
        "1. Generating a data matrix with random values using a function"
      ],
      "metadata": {
        "id": "s9vthjAX40XE"
      }
    },
    {
      "cell_type": "code",
      "execution_count": null,
      "metadata": {
        "id": "cFx6VchQtY9q",
        "colab": {
          "base_uri": "https://localhost:8080/"
        },
        "outputId": "2d06f98d-d3ec-47e1-ea74-ef7c70ef4312"
      },
      "outputs": [
        {
          "output_type": "stream",
          "name": "stdout",
          "text": [
            "Enter number of samples: 100\n",
            "Enter number of Feature dimensions: 5\n",
            "[[4 2 4 4 2]\n",
            " [1 2 2 2 4]\n",
            " [0 0 4 2 4]\n",
            " [1 0 1 0 2]\n",
            " [3 0 3 3 2]\n",
            " [2 2 2 1 2]\n",
            " [2 3 1 1 4]\n",
            " [3 0 0 2 1]\n",
            " [4 1 3 3 1]\n",
            " [3 0 3 0 1]\n",
            " [0 1 2 4 4]\n",
            " [1 4 0 1 1]\n",
            " [0 4 1 0 1]\n",
            " [3 1 3 2 4]\n",
            " [3 2 2 1 0]\n",
            " [0 0 0 1 2]\n",
            " [3 2 2 1 4]\n",
            " [4 2 4 3 3]\n",
            " [2 1 2 4 3]\n",
            " [1 1 2 0 1]\n",
            " [2 2 0 1 0]\n",
            " [4 2 3 0 0]\n",
            " [1 0 3 4 2]\n",
            " [0 4 0 4 0]\n",
            " [2 2 0 1 1]\n",
            " [4 0 1 3 2]\n",
            " [0 2 4 2 0]\n",
            " [0 0 2 0 4]\n",
            " [0 4 0 3 1]\n",
            " [1 1 0 3 1]\n",
            " [4 4 4 0 1]\n",
            " [1 3 1 2 1]\n",
            " [0 3 2 4 3]\n",
            " [4 1 0 0 1]\n",
            " [4 0 1 1 2]\n",
            " [1 3 3 1 1]\n",
            " [2 4 2 0 0]\n",
            " [1 2 3 4 0]\n",
            " [4 4 2 0 4]\n",
            " [4 0 4 1 4]\n",
            " [1 0 0 0 2]\n",
            " [2 3 2 4 2]\n",
            " [4 3 4 4 4]\n",
            " [3 2 4 4 2]\n",
            " [3 0 2 4 3]\n",
            " [2 0 3 0 2]\n",
            " [0 3 4 1 3]\n",
            " [2 1 0 4 4]\n",
            " [0 1 3 1 4]\n",
            " [1 2 3 2 4]\n",
            " [0 4 3 4 0]\n",
            " [2 1 4 1 4]\n",
            " [2 0 1 2 2]\n",
            " [4 3 2 3 1]\n",
            " [2 1 3 3 0]\n",
            " [2 3 1 2 4]\n",
            " [1 3 0 1 0]\n",
            " [4 4 1 4 1]\n",
            " [0 3 4 0 2]\n",
            " [3 2 1 2 0]\n",
            " [2 1 2 4 1]\n",
            " [4 2 3 4 0]\n",
            " [2 1 2 0 3]\n",
            " [3 3 3 3 3]\n",
            " [4 3 0 2 0]\n",
            " [1 2 3 4 4]\n",
            " [1 1 2 0 2]\n",
            " [0 0 4 4 3]\n",
            " [1 0 2 0 4]\n",
            " [2 2 3 0 1]\n",
            " [2 4 4 1 3]\n",
            " [0 1 3 1 0]\n",
            " [3 3 4 2 3]\n",
            " [0 2 0 4 0]\n",
            " [2 3 2 1 1]\n",
            " [2 1 4 4 3]\n",
            " [3 2 0 1 2]\n",
            " [1 2 1 1 3]\n",
            " [4 0 4 0 3]\n",
            " [2 3 1 0 3]\n",
            " [1 1 4 2 4]\n",
            " [0 2 3 1 4]\n",
            " [0 3 0 0 4]\n",
            " [1 2 0 0 2]\n",
            " [2 1 1 0 2]\n",
            " [1 1 3 0 1]\n",
            " [0 0 1 1 1]\n",
            " [3 2 0 3 1]\n",
            " [2 4 4 1 0]\n",
            " [4 1 4 0 4]\n",
            " [2 1 1 4 1]\n",
            " [1 2 3 1 4]\n",
            " [4 0 3 3 3]\n",
            " [1 2 1 2 3]\n",
            " [0 3 2 4 1]\n",
            " [1 3 1 4 0]\n",
            " [0 2 1 1 2]\n",
            " [2 1 0 2 1]\n",
            " [1 4 1 2 4]\n",
            " [4 2 0 1 4]]\n"
          ]
        }
      ],
      "source": [
        "import numpy as np # Importing numpy library as np\n",
        "num_samples=int(input('Enter number of samples: ')) #Takes number of samples from the user and converts the input from string to int type\n",
        "feature_dimension=int(input('Enter number of Feature dimensions: ')) #Takes feature dimensions from the user and converts the input from string to int type\n",
        "def generate_data_matrix(num_samples, feature_dimension): # defining a function generate_data_matrix\n",
        "    matrix = np.random.randint(5,size=(num_samples, feature_dimension)) #Takes random values from 0-5\n",
        "    return matrix #Function ends here & gives a value to the code that called the function generate_data_matrix\n",
        "X= generate_data_matrix(num_samples, feature_dimension) # calling generate_data_matrix function to generate matrix X\n",
        "print(X) #prints the matrix X\n"
      ]
    },
    {
      "cell_type": "markdown",
      "source": [
        "Data Matrix X is generated with random values from 0-4, with order num_samples * feature_dimension"
      ],
      "metadata": {
        "id": "SsqUdDPr4y4s"
      }
    },
    {
      "cell_type": "markdown",
      "source": [
        "2. Write a function to generate dependent variable column t"
      ],
      "metadata": {
        "id": "4gCC3mapB0kG"
      }
    },
    {
      "cell_type": "code",
      "source": [
        "import numpy as np\n",
        "m=int(input('Enter number of samples: ')) #Takes number of samples from the user\n",
        "n=int(input('Enter the number of feature dimensions: ')) #Takes feature dimensions\n",
        "def data_matrix(m,n): #defining a function data_matrix\n",
        "    matrix=np.random.randint(5,size=(m,n)) #Assigns random values from 0-4 for m*n matrix\n",
        "    return matrix  #returns a value to the function\n",
        "X=data_matrix(m,n) #calling data_matrix function to generate matrix X\n",
        "weight=data_matrix(n,1) #calling data_matrix function to generate matrix weight\n",
        "w0=1   #initialising bias\n",
        "noise_variance=0.1\n",
        "def target(X,weight,w0): #defining a function to generate target vector\n",
        "    t=np.dot(X,weight)+w0+np.random.normal(0,noise_variance,size=(m,1)) #generates a target vector xw+w0+gaussian distribution(mean,variance,order of matrix)\n",
        "    return t #returns t when the function is called\n",
        "t=target(X,weight,w0) #calling the function target \n",
        "print(t) # prints target vector\n"
      ],
      "metadata": {
        "colab": {
          "base_uri": "https://localhost:8080/"
        },
        "id": "gwISApzCvVe-",
        "outputId": "3bac5079-ec54-44e4-f1a7-ed2b63254881"
      },
      "execution_count": null,
      "outputs": [
        {
          "output_type": "stream",
          "name": "stdout",
          "text": [
            "Enter number of samples: 100\n",
            "Enter the number of feature dimensions: 10\n",
            "[[30.04382644]\n",
            " [31.01947192]\n",
            " [40.93809388]\n",
            " [58.93215852]\n",
            " [38.95368161]\n",
            " [45.93885813]\n",
            " [41.92421758]\n",
            " [32.75310221]\n",
            " [36.99466197]\n",
            " [39.11531747]\n",
            " [59.09853091]\n",
            " [20.97385862]\n",
            " [37.05829122]\n",
            " [58.85298865]\n",
            " [39.88279183]\n",
            " [72.96026067]\n",
            " [61.98761977]\n",
            " [40.93016218]\n",
            " [39.90794237]\n",
            " [59.11605093]\n",
            " [57.10400576]\n",
            " [55.043165  ]\n",
            " [51.07435809]\n",
            " [50.92891928]\n",
            " [55.98903225]\n",
            " [57.10189796]\n",
            " [48.9878899 ]\n",
            " [34.94553604]\n",
            " [53.16150923]\n",
            " [34.91634924]\n",
            " [43.77937324]\n",
            " [41.2563986 ]\n",
            " [53.1381898 ]\n",
            " [33.0303914 ]\n",
            " [29.14468857]\n",
            " [36.77865888]\n",
            " [12.99112211]\n",
            " [36.7250248 ]\n",
            " [48.03112406]\n",
            " [47.04968296]\n",
            " [44.93852488]\n",
            " [51.12946033]\n",
            " [43.11433848]\n",
            " [51.82186832]\n",
            " [43.00917663]\n",
            " [21.07292379]\n",
            " [34.99435998]\n",
            " [33.88561143]\n",
            " [48.9854389 ]\n",
            " [57.98920277]\n",
            " [49.9815997 ]\n",
            " [64.03771229]\n",
            " [50.07829962]\n",
            " [47.1128845 ]\n",
            " [50.91647661]\n",
            " [73.98435538]\n",
            " [35.14607305]\n",
            " [40.00171895]\n",
            " [56.95320659]\n",
            " [44.03579392]\n",
            " [49.94831662]\n",
            " [67.13435771]\n",
            " [34.9833588 ]\n",
            " [48.00951517]\n",
            " [56.25308738]\n",
            " [44.9589609 ]\n",
            " [45.76879031]\n",
            " [61.99454341]\n",
            " [40.99426243]\n",
            " [46.97986663]\n",
            " [62.90197695]\n",
            " [50.97295314]\n",
            " [33.14592729]\n",
            " [53.00491947]\n",
            " [63.12972845]\n",
            " [54.15167978]\n",
            " [47.93951521]\n",
            " [60.90623215]\n",
            " [53.80917558]\n",
            " [53.10072589]\n",
            " [53.91611209]\n",
            " [38.94107049]\n",
            " [51.97419894]\n",
            " [35.16777161]\n",
            " [37.07439208]\n",
            " [19.01460583]\n",
            " [53.17846479]\n",
            " [45.97938881]\n",
            " [44.0511145 ]\n",
            " [38.07867968]\n",
            " [53.03252656]\n",
            " [49.10516643]\n",
            " [58.11584572]\n",
            " [43.03932665]\n",
            " [38.9828429 ]\n",
            " [60.94236115]\n",
            " [46.05084334]\n",
            " [53.95141947]\n",
            " [58.8926884 ]\n",
            " [57.02092891]]\n"
          ]
        }
      ]
    },
    {
      "cell_type": "markdown",
      "source": [
        "I have observed to take care of order of the matrices while multiplication and addition of them."
      ],
      "metadata": {
        "id": "WiZyX6VhzsE_"
      }
    },
    {
      "cell_type": "markdown",
      "source": [
        "3. Calculating linear regression estimate"
      ],
      "metadata": {
        "id": "xZ6BN1rgz-iY"
      }
    },
    {
      "cell_type": "code",
      "source": [
        "import numpy as np\n",
        "m=int(input('Enter number of samples: ')) #Takes number of samples from the user\n",
        "n=int(input('Enter the number of feature dimensions: ')) #Takes feature dimensions\n",
        "def data_matrix(m,n): #defining a function data_matrix\n",
        "    matrix=np.random.randint(5,size=(m,n)) #Assigns random values from 0-4 for m*n matrix\n",
        "    return matrix  #returns a value to the function\n",
        "X=data_matrix(m,n) #calling data_matrix function to generate matrix X\n",
        "weight=data_matrix(n,1) #calling data_matrix function to generate matrix weight\n",
        "def linear_reg(X,weight): #initialising the function for dot product\n",
        "    Y=np.dot(X,weight) #Does dort product of X and weight \n",
        "    return Y #Returns a value to the function\n",
        "y=linear_reg(X,weight) #Calling function linear_reg\n",
        "print(y) #printing y\n"
      ],
      "metadata": {
        "colab": {
          "base_uri": "https://localhost:8080/"
        },
        "id": "KUO6zqDBz4Vv",
        "outputId": "65e5f3cd-6a21-4dfb-b51c-a50d74ce75c0"
      },
      "execution_count": null,
      "outputs": [
        {
          "output_type": "stream",
          "name": "stdout",
          "text": [
            "Enter number of samples: 10\n",
            "Enter the number of feature dimensions: 4\n",
            "[[ 7]\n",
            " [14]\n",
            " [ 8]\n",
            " [10]\n",
            " [ 7]\n",
            " [ 7]\n",
            " [ 7]\n",
            " [20]\n",
            " [12]\n",
            " [12]]\n"
          ]
        }
      ]
    },
    {
      "cell_type": "markdown",
      "source": [
        "calculated linear regression estimate, y. It is the product of data matrix, X of order m*n and weight matrix, w of order n*1. We will get y in the order of m*1"
      ],
      "metadata": {
        "id": "Ab2QPkRRjMNT"
      }
    },
    {
      "cell_type": "markdown",
      "source": [
        "4. calculating mean square error of y ant t"
      ],
      "metadata": {
        "id": "tGs2STed9CBV"
      }
    },
    {
      "cell_type": "code",
      "source": [
        "import numpy as np\n",
        "m=int(input('Enter number of samples: ')) #Takes number of samples from the user\n",
        "n=int(input('Enter the number of feature dimensions: ')) #Takes feature dimensions\n",
        "def data_matrix(m,n): #defining a function data_matrix\n",
        "    matrix=np.random.randint(5,size=(m,n)) #Assigns random values from 0-4 for m*n matrix\n",
        "    return matrix  #returns a value to the function\n",
        "X=data_matrix(m,n) #calling data_matrix function to generate matrix X\n",
        "weight=data_matrix(n,1) #calling data_matrix function to generate matrix weight\n",
        "w0=1 #Initialising bias as w0=1\n",
        "noise_variance=0.2 # inintialising noise variance\n",
        "Y=np.dot(X,weight) #Model's output\n",
        "T=np.dot(X,weight)+w0+np.random.normal(0,noise_variance,size=(m,1)) #generates a target vector xw+w0+gaussian distribution(mean,variance,order of matrix)\n",
        "def MSE(T,Y):  #defining a function MSE\n",
        "  MSE = np.mean((Y-T)**2) #MSE = (1/N) * Σ(y - t)^2\n",
        "  return MSE #Will retrun MSE value if we call the function\n",
        "MSE=MSE(T,Y) #MSE function is called and stored in MSE variable\n",
        "print(MSE) #Print statement to print MSE value    "
      ],
      "metadata": {
        "colab": {
          "base_uri": "https://localhost:8080/"
        },
        "id": "6eZahieh88yp",
        "outputId": "4d961f71-20ed-4476-aeee-a6855c75f55e"
      },
      "execution_count": null,
      "outputs": [
        {
          "output_type": "stream",
          "name": "stdout",
          "text": [
            "Enter number of samples: 10\n",
            "Enter the number of feature dimensions: 4\n",
            "1.2471907656068517\n"
          ]
        }
      ]
    },
    {
      "cell_type": "markdown",
      "source": [
        "It calculates the error between the target and the predicted value. For a model to be good, MSE should be as low as possible.\n"
      ],
      "metadata": {
        "id": "YJGU2BC0HiEd"
      }
    },
    {
      "cell_type": "markdown",
      "source": [
        "5. To estimate the weights of linear regression using pseudo-inverse, assuming L2 regularization"
      ],
      "metadata": {
        "id": "U0N5ozxlH00h"
      }
    },
    {
      "cell_type": "code",
      "source": [
        "import numpy as np\n",
        "m=int(input('Enter number of samples: ')) #Takes number of samples from the user\n",
        "n=int(input('Enter the number of feature dimensions: ')) #Takes feature dimensions\n",
        "lamda=float(input('Enter the value of lamda: ')) #takes lamda value from user\n",
        "def data_matrix(m,n): #defining a function data_matrix\n",
        "    matrix=np.random.randint(5,size=(m,n)) #Assigns random values from 0-4 for m*n matrix\n",
        "    return matrix  #returns a value to the function\n",
        "X=data_matrix(m,n) #calling data_matrix function to generate matrix X\n",
        "t=data_matrix(m,1) #Calling data_matrix function to generate t\n",
        "def weights_lr(): #defining function \n",
        "  weight=np.dot(np.dot((np.linalg.inv((lamda*np.identity(n))+np.dot(X.transpose(),X))),X.transpose()),t) #weight=(inverse(lamda*I)+(XT*X))+(Xt*t))\n",
        "  y=np.dot(X,weight) #model gives y as output taking weights from above line\n",
        "  MSE=np.mean(((t-y)**2)+np.dot(weight.transpose(),weight)) #calculating MSE\n",
        "  print(\"weight: \", weight) #Printing weight\n",
        "  print('y:', y) #printing y\n",
        "  print('MSE' , MSE) #printing MSE\n",
        "p=weights_lr() #calling the function \n"
      ],
      "metadata": {
        "colab": {
          "base_uri": "https://localhost:8080/"
        },
        "id": "Peaz0bx5_06B",
        "outputId": "63e94166-8db0-42f3-d977-3a6d8a1f1f04"
      },
      "execution_count": null,
      "outputs": [
        {
          "output_type": "stream",
          "name": "stdout",
          "text": [
            "Enter number of samples: 5\n",
            "Enter the number of feature dimensions: 5\n",
            "Enter the value of lamda: 1\n",
            "weight:  [[ 0.1078577 ]\n",
            " [-0.30655502]\n",
            " [-0.20219907]\n",
            " [ 0.13843154]\n",
            " [ 0.36824396]]\n",
            "y: [[1.03179228]\n",
            " [0.06808764]\n",
            " [1.8271228 ]\n",
            " [0.00230508]\n",
            " [0.97661616]]\n",
            "MSE 0.30847769799989966\n"
          ]
        }
      ]
    },
    {
      "cell_type": "markdown",
      "source": [
        "It is calculating weights of linear regression using psuedo inverse"
      ],
      "metadata": {
        "id": "bj-0IXy1fsvb"
      }
    },
    {
      "cell_type": "markdown",
      "source": [
        "6.a function to compute the gradient of MSE with respect to its weight vector"
      ],
      "metadata": {
        "id": "IWqLJhfBIwTc"
      }
    },
    {
      "cell_type": "code",
      "source": [
        "import numpy as np\n",
        "m=int(input('Enter number of samples: ')) #Takes number of samples from the user\n",
        "n=int(input('Enter the number of feature dimensions: ')) #Takes feature dimensions\n",
        "def data_matrix(m,n): #defining a function data_matrix\n",
        "    matrix=np.random.randint(5,size=(m,n)) #Assigns random values from 0-4 for m*n matrix\n",
        "    return matrix  #returns a value to the function\n",
        "X=data_matrix(m,n) #calling data_matrix function to generate matrix X\n",
        "w=data_matrix(n,1) #calling data_matrix function to generate weight matrix w\n",
        "y=np.dot(X,w) # calculating, y as Xw\n",
        "t=data_matrix(m,1) #Calling data_matrix function to generate t\n",
        "def gradient(X,w,t): #defining function for gradient\n",
        "  gradient=(2/m)*np.dot(X.transpose(),(y-t)) #gradient=2/m*(X^T*(-t))\n",
        "  return gradient #returning gradient value to the function                  \n",
        "MSE_Gradient=gradient(X,w,t) #Calling function gradient \n",
        "print(MSE_Gradient) #printing gradient \n"
      ],
      "metadata": {
        "colab": {
          "base_uri": "https://localhost:8080/"
        },
        "id": "BJgqAhkxuu9f",
        "outputId": "35f10723-2de9-4228-a17f-c4a279253d1f"
      },
      "execution_count": null,
      "outputs": [
        {
          "output_type": "stream",
          "name": "stdout",
          "text": [
            "Enter number of samples: 5\n",
            "Enter the number of feature dimensions: 5\n",
            "[[129.6]\n",
            " [ 79.6]\n",
            " [109.6]\n",
            " [ 74. ]\n",
            " [ 30. ]]\n"
          ]
        }
      ]
    },
    {
      "cell_type": "markdown",
      "source": [
        "It is calculating gradient of MSE wrt its weight vector"
      ],
      "metadata": {
        "id": "SM0YYggBgwkr"
      }
    },
    {
      "cell_type": "markdown",
      "source": [
        "7. a function to compute L2 norm of a vector w passed as a numpy array. Exclude bias w0"
      ],
      "metadata": {
        "id": "QxdAg0FY2mak"
      }
    },
    {
      "cell_type": "code",
      "source": [
        "import numpy as np\n",
        "m=int(input('Enter number of samples: ')) #Takes number of samples from the user\n",
        "w=np.random.randint(5,size=(m)) #Generating w array\n",
        "def L2_norm(w): # Defining function L2_norm\n",
        "    L2_norm=np.sqrt(np.sum(w[1:] ** 2)) # Calculating L2_Norm \n",
        "    return L2_norm #Returns L2_norm if function is called\n",
        "L2_norm_w=L2_norm(w) #Calling funtion to calculate L2_norm \n",
        "print(L2_norm_w) #Printing L2_norm"
      ],
      "metadata": {
        "colab": {
          "base_uri": "https://localhost:8080/"
        },
        "id": "RReC3yC92sCb",
        "outputId": "965f086e-b6f6-4092-cb9b-d65d060aa0f9"
      },
      "execution_count": null,
      "outputs": [
        {
          "output_type": "stream",
          "name": "stdout",
          "text": [
            "Enter number of samples: 10\n",
            "4.69041575982343\n"
          ]
        }
      ]
    },
    {
      "cell_type": "markdown",
      "source": [
        "Weight vector is taken as array and L2 norm is calculated using function."
      ],
      "metadata": {
        "id": "xvMtsy5j7rC9"
      }
    },
    {
      "cell_type": "markdown",
      "source": [
        "8.Write a function to compute the gradient of L2 norm with respect to the weight vectors. "
      ],
      "metadata": {
        "id": "VbOxCCbt7eR6"
      }
    },
    {
      "cell_type": "code",
      "source": [
        "import numpy as np\n",
        "m=int(input('Enter number of samples: ')) #Takes number of samples from the user\n",
        "w=np.random.randint(4,size=(m)) #Generating w array\n",
        "def gradient_L2(w): # Defining function L2_norm\n",
        "    L2_norm=np.sqrt(np.sum(w[0:] ** 2)) # Calculating L2_Norm \n",
        "    gradient=np.zeros(m) #setting the gradient[0]=0\n",
        "    gradient[1:]=w[1:]/L2_norm #Dividing each term of gradient with norm\n",
        "    return gradient #Returns gradient if function is called\n",
        "gradient = gradient_L2(w) #Returning a value when the function is called\n",
        "print(gradient) \n"
      ],
      "metadata": {
        "colab": {
          "base_uri": "https://localhost:8080/"
        },
        "id": "UTutfVzn-zT5",
        "outputId": "d090c649-824a-4e3f-cb79-3a0d2f15669a"
      },
      "execution_count": null,
      "outputs": [
        {
          "output_type": "stream",
          "name": "stdout",
          "text": [
            "Enter number of samples: 10\n",
            "[0.         0.37139068 0.         0.         0.18569534 0.18569534\n",
            " 0.55708601 0.37139068 0.18569534 0.55708601]\n"
          ]
        }
      ]
    },
    {
      "cell_type": "markdown",
      "source": [
        "gradient of L2 norm wrt weight vector, w is weight/norm\n"
      ],
      "metadata": {
        "id": "i5HLVpj6dxaF"
      }
    },
    {
      "cell_type": "markdown",
      "source": [
        "9. Write a function to compute L1 norm of a vector w passed as a numpy array. Exclude bias w0."
      ],
      "metadata": {
        "id": "FhY5bcINf7mo"
      }
    },
    {
      "cell_type": "code",
      "source": [
        "import numpy as np\n",
        "m=int(input('Enter number of samples: ')) #Takes number of samples from the user\n",
        "w=np.random.randint(5,size=(m)) #Generating w array\n",
        "def L1_norm(w): # Defining function L2_norm\n",
        "    L1_norm=np.sum(abs(w[1:])) # Calculating L1_Norm\n",
        "    return L1_norm  #returns L1_norm when a function is called\n",
        "L1_norm=L1_norm(w) \n",
        "print(w)  #printing w vector\n",
        "print(L1_norm) #printing L1_norm"
      ],
      "metadata": {
        "colab": {
          "base_uri": "https://localhost:8080/"
        },
        "id": "HSvKNeDxgyB0",
        "outputId": "42092ab1-f2c4-4e5a-d5a1-ad3895386d55"
      },
      "execution_count": null,
      "outputs": [
        {
          "output_type": "stream",
          "name": "stdout",
          "text": [
            "Enter number of samples: 10\n",
            "[4 3 4 3 3 1 0 0 0 3]\n",
            "17\n"
          ]
        }
      ]
    },
    {
      "cell_type": "markdown",
      "source": [
        "L1_norm is calculated "
      ],
      "metadata": {
        "id": "8wyIWcjkjO91"
      }
    },
    {
      "cell_type": "markdown",
      "source": [
        "10. Write a function to compute the gradient of L1 norm with respect to the weight vectors. "
      ],
      "metadata": {
        "id": "wOvs-GedjWgy"
      }
    },
    {
      "cell_type": "code",
      "source": [
        "import numpy as np\n",
        "m=int(input('Enter number of samples: ')) #Takes number of samples from the user\n",
        "w=np.random.randint(-5,5,size=m) #Generating w array\n",
        "def gradient_L1(): #Definfing function to calculate Gradient of L1 norm\n",
        "  g=np.zeros(m) #Initialising the gradient vector with zeros\n",
        "  for i in range(1,m): #for loop for iterations\n",
        "    if w[i]>0: #if statement to check condition\n",
        "      g[i]=1 #if above statement is true, assigns g[i]=1\n",
        "    elif w[i]<0: #if statement to check condition\n",
        "      g[i]=-1  #if above statement is true, assigns g[i]=-1\n",
        "  return g #returns the vector g, when the function is called\n",
        "gradient=gradient_L1() #calling function gradient_L1 and storing it's output in gradient variable\n",
        "print(gradient) #printing gradient\n",
        "print(w) #printing w vector, to check if the program is going good "
      ],
      "metadata": {
        "colab": {
          "base_uri": "https://localhost:8080/"
        },
        "id": "I0h2dktHjcpE",
        "outputId": "aa5be7f0-2d18-4e92-cca8-6101b1213a70"
      },
      "execution_count": null,
      "outputs": [
        {
          "output_type": "stream",
          "name": "stdout",
          "text": [
            "Enter number of samples: 10\n",
            "[ 0. -1. -1. -1.  1. -1. -1. -1. -1. -1.]\n",
            "[ 0 -3 -4 -1  3 -2 -1 -4 -3 -3]\n"
          ]
        }
      ]
    },
    {
      "cell_type": "markdown",
      "source": [
        "gradient of L1 norm wrt to its weight vector is calculated. It will be 1 for weight vectors greater than 0, -1 for weight vectors less than 0 and 0 for weight vectors with 0 elements."
      ],
      "metadata": {
        "id": "IE0h7GlvhUbW"
      }
    },
    {
      "cell_type": "markdown",
      "source": [
        "11. a function for a single update of weights of linear regression using gradient descent"
      ],
      "metadata": {
        "id": "pC31rMKE_4gf"
      }
    },
    {
      "cell_type": "code",
      "source": [
        "import numpy as np\n",
        "m=int(input('Enter number of samples: ')) #Takes number of samples from the user\n",
        "n=int(input('Enter the number of feature dimensions: ')) #Takes feature dimensions\n",
        "X=data_matrix(m,n) #calling data_matrix function to generate matrix \n",
        "w = data_matrix(n,1) #Calling data_matrix function to generate weight vector\n",
        "t=data_matrix(m,1) #Calling data_matrix function to generate target vector\n",
        "print(w) #to check w and updated w\n",
        "eta=1 #initialising laerning rate\n",
        "lambda1=1 #initialising a scalar representing the regularization term L2\n",
        "lambda2=2   #initialising a scalar representing the regularization term L2\n",
        "def update_weights_mse(X, t, w, eta, lambda2, lambda1): #defining function to calculate updated weights and updated MSE\n",
        "    gradient = np.dot(X.T,(np.dot(X,w) - t)) + lambda2 * w + lambda1 * np.sign(w) # Computing the gradient of the MSE loss with respect to the weights\n",
        "    w = w - eta * gradient # Update the weights using the gradient and the learning rate\n",
        "    mse = np.mean((np.dot(X,w) - t)**2) ## Computing the updated MSE\n",
        "    return w, mse\n",
        "updated=update_weights_mse(X, t, w, eta, lambda2, lambda1) #calling the functiion\n",
        "print(updated) #prints updated weights and mse in a tuple\n"
      ],
      "metadata": {
        "colab": {
          "base_uri": "https://localhost:8080/"
        },
        "id": "OPNuhB7dLN3R",
        "outputId": "6c78bdaa-3240-489e-f7c3-1e0f05736d26"
      },
      "execution_count": null,
      "outputs": [
        {
          "output_type": "stream",
          "name": "stdout",
          "text": [
            "Enter number of samples: 5\n",
            "Enter the number of feature dimensions: 5\n",
            "[[1]\n",
            " [1]\n",
            " [4]\n",
            " [3]\n",
            " [1]]\n",
            "(array([[-181],\n",
            "       [-126],\n",
            "       [-141],\n",
            "       [-159],\n",
            "       [-132]]), 1912781.8)\n"
          ]
        }
      ]
    },
    {
      "cell_type": "markdown",
      "source": [
        "Gradient is calculated and weights are updated according to the gradient. Initial weights and updated weights are very much different."
      ],
      "metadata": {
        "id": "oGU2YC1zh727"
      }
    },
    {
      "cell_type": "markdown",
      "source": [
        "12. a function to estimate the weights of linear regression using gradient descent by multiple iterations to update weight matrix"
      ],
      "metadata": {
        "id": "OmrWzSiTRxNl"
      }
    },
    {
      "cell_type": "code",
      "source": [
        "import numpy as np\n",
        "m=int(input('Enter number of samples: ')) #Takes number of samples from the user\n",
        "n=int(input('Enter the number of feature dimensions: ')) #Takes feature dimensions\n",
        "X=data_matrix(m,n) #calling data_matrix function to generate matrix \n",
        "t=data_matrix(m,1) #Calling data_matrix function to generate target vector\n",
        "def linear_regression_gradient_descent(X, t, lambda2=0, lambda1=0, eta=0.01, max_iter=1000, min_change_NRMSE=1e-6):\n",
        "    nrmse = float('inf') # Initialize NRMSE\n",
        "    w = data_matrix(n,1)\n",
        "    i = 0 # Initialize iteration count\n",
        "    t_mean = np.mean(t)   # Initialize mean of t\n",
        "    t_var = np.var(t)      # Initialize mean of t\n",
        "    while i < max_iter and nrmse > min_change_NRMSE:  #giving conditions such that if i reaches max_iter or nmrse > 10^-6, loop breaks\n",
        "        w, mse = update_weights_mse(X, t, w, eta, lambda2, lambda1) # calling function to Update weights and MSE from 11th question\n",
        "        nrmse = np.sqrt(mse)/t_var  # Compute NRMSE\n",
        "        i += 1  # Increment iteration count\n",
        "    return w, nrmse  # Return final weights and NRMSE\n",
        "w_nrmse=linear_regression_gradient_descent(X, t, lambda2=0, lambda1=0, eta=0.01, max_iter=1000, min_change_NRMSE=1e-6) #calling the function\n",
        "print(w_nrmse) #printing  weights and nmrse \n"
      ],
      "metadata": {
        "colab": {
          "base_uri": "https://localhost:8080/"
        },
        "id": "SZoznL4kOA5i",
        "outputId": "feb187b5-ce39-4b78-f00d-a3c229da6389"
      },
      "execution_count": null,
      "outputs": [
        {
          "output_type": "stream",
          "name": "stdout",
          "text": [
            "Enter number of samples: 6\n",
            "Enter the number of feature dimensions: 4\n",
            "(array([[ 0.99576037],\n",
            "       [ 0.64193935],\n",
            "       [-0.09864298],\n",
            "       [-0.42791446]]), 0.43583421566180347)\n"
          ]
        }
      ]
    },
    {
      "cell_type": "markdown",
      "source": [
        "weight matrix is updated in each loop till nmrse reaches some minimum given error or some number of loops "
      ],
      "metadata": {
        "id": "Mlzx-hYZi-Rk"
      }
    },
    {
      "cell_type": "markdown",
      "source": [
        "13. a)Running multiple experiments (with different random seeds) for different values of samples and plotting the results in the box plots between Training_NRMSE vs number of training samples and validation NRMSE vs number of training samples"
      ],
      "metadata": {
        "id": "gnvZrvSYvsDv"
      }
    },
    {
      "cell_type": "code",
      "source": [
        "import numpy as np\n",
        "import matplotlib.pyplot as plt  #importing matplotlib.pylot as plt for plotting box plots\n",
        "from sklearn.model_selection import train_test_split #importing train_test_split for splitting training and validation sets\n",
        "n=int(input(\"enter number of feature dimensions: \")) #Takes a number from user\n",
        "Number_of_experiments = 500 #initialising number of experiments needed\n",
        "number_of_training_samples = [30,50,80,120,160,200,300,500,750,1000] #Initialising an array for number of training samples\n",
        "training_nrmse = np.zeros((Number_of_experiments, len(number_of_training_samples))) #initialising training_nrmse to zeros of order Number_of_experiments and number_of_training_samples\n",
        "validate_nrmse = np.zeros((Number_of_experiments, len(number_of_training_samples))) #initialising validate_nrmse to zeros of order Number_of_experiments and number_of_training_samples\n",
        "for i in range(Number_of_experiments): #loop to repeat experiments from 0 to 499\n",
        "    for j in range(len(number_of_training_samples)): #repeats loop from 0 to len(number_of_training_samples)\n",
        "        no_of_samples=number_of_training_samples[j] #no_of_samples takes each value of number_of_training_samples in each iteration\n",
        "        np.random.seed(i) #creates a random matrix X with same elements in inner for loop(for same seed value) for each number_of_training_samples\n",
        "        X = np.random.rand(no_of_samples, n) #creates a random matrix of size (no_of_samples, n) in each loop \n",
        "        t = np.random.rand(no_of_samples, 1) #creates a random matrix of size (no_of_samples, 1) in each loop \n",
        "        X_training,X_validate,t_training,t_validate=train_test_split(X, t, test_size=0.5) #Splits data from X to X_training and X_validate, t to t_training and t_validate\n",
        "        X_psuedo=np.linalg.pinv(X_training) #calculates the psuedo inverse of X\n",
        "        w = np.matmul(X_psuedo,t_training) #calculates weight matrix by multipling psuedo inverse and t_training\n",
        "        y_training = np.matmul(X_training,w) #calculates y_training by multipling X_training and w\n",
        "        training_nrmse[i, j] = np.sqrt(np.mean(np.square(y_training - t_training))) / np.std(t_training) #calculating training_nrmse\n",
        "        y_validate = np.matmul(X_validate,w) #calculates y_validation matrix by multiplying X_validate and w\n",
        "        validate_nrmse[i, j] = np.sqrt(np.mean(np.square(y_validate - t_validate))) / np.std(t_validate) #calculates validate_nrmse\n",
        "\n",
        "# Plot the results as box plots\n",
        "plt.boxplot(training_nrmse, labels=number_of_training_samples)\n",
        "plt.title('Training NRMSE vs Number of Training Samples using pseudo inverse method')\n",
        "plt.xlabel('Number of Training Samples')\n",
        "plt.ylabel('Training_NRMSE')\n",
        "plt.show()\n",
        "\n",
        "plt.boxplot(validate_nrmse, labels=number_of_training_samples)\n",
        "plt.title('Validation NRMSE vs Number of Training Samples using pseudo inverse method')\n",
        "plt.xlabel('Number of Training Samples')\n",
        "plt.ylabel('Validation_NRMSE')\n",
        "plt.show()"
      ],
      "metadata": {
        "id": "XSupOKzQgzdL",
        "colab": {
          "base_uri": "https://localhost:8080/",
          "height": 590
        },
        "outputId": "19af707a-84b4-4dc9-fe43-ecacc588d8f9"
      },
      "execution_count": null,
      "outputs": [
        {
          "name": "stdout",
          "output_type": "stream",
          "text": [
            "enter number of feature dimensions: 10\n"
          ]
        },
        {
          "output_type": "display_data",
          "data": {
            "text/plain": [
              "<Figure size 432x288 with 1 Axes>"
            ],
            "image/png": "[encoded data removed]"
          },
          "metadata": {
            "needs_background": "light"
          }
        },
        {
          "output_type": "display_data",
          "data": {
            "text/plain": [
              "<Figure size 432x288 with 1 Axes>"
            ],
            "image/png": "[encoded data removed]"
          },
          "metadata": {
            "needs_background": "light"
          }
        }
      ]
    },
    {
      "cell_type": "markdown",
      "source": [
        "a) As number of training samples increase in training, we can see a small increase in NRMSE value. As the model is trained on the same data (first 30 data points are used in next 50, then these 50 are used in next 80 and so on..) spreading is decreasing. \n",
        "\n",
        "b) And in validation set as numbeer of samples increase, we can see a small decrease in NRMSE."
      ],
      "metadata": {
        "id": "rqVCtM7Bs305"
      }
    },
    {
      "cell_type": "markdown",
      "source": [
        "13 b)Running multiple experiments (with different random seeds) for different values of number of variables and plotting t he results in the box plots between Training_NRMSE vs number of variables and validation NRMSE vs number of variables"
      ],
      "metadata": {
        "id": "YzvHydosttyL"
      }
    },
    {
      "cell_type": "code",
      "source": [
        "import numpy as np\n",
        "import matplotlib.pyplot as plt  #importing matplotlib.pylot as plt for plotting box plots\n",
        "from sklearn.model_selection import train_test_split #importing train_test_split for splitting training and validation sets\n",
        "n=int(input(\"Enter the number of samples: \")) #Takes a number from user\n",
        "Number_of_experiments = 500 #initialising number of experiments needed\n",
        "number_of_variables = [5,8,12,15,18,21,25] #Initialising an array for number of variables\n",
        "training_nrmse = np.zeros((Number_of_experiments, len(number_of_variables))) #initialising training_nrmse to zeros of order Number_of_experiments and number_of_variables\n",
        "validate_nrmse = np.zeros((Number_of_experiments, len(number_of_variables))) #initialising validate_nrmse to zeros of order Number_of_experiments and number_of_variables\n",
        "for i in range(Number_of_experiments): #loop to repeat experiments from 0 to 499\n",
        "    for j in range(len(number_of_variables)): #repeats loop from 0 to len(number_of_variables)\n",
        "        np.random.seed(i) #creates a random matrix X with same elements in inner for loop(for same seed value) for each number_of_variables\n",
        "        X = np.random.rand(n,number_of_variables[j]) #creates a random matrix of size (no_of_samples, n) in each loop \n",
        "        t = np.random.rand(n, 1) #creates a random matrix of size (no_of_samples, 1) in each loop \n",
        "        X_training,X_validate,t_training,t_validate=train_test_split(X, t, test_size=0.5) #Splits data from X to X_training and X_validate, t to t_training and t_validate\n",
        "        X_psuedo=np.linalg.pinv(X_training) #calculates the psuedo inverse of X\n",
        "        w = np.matmul(X_psuedo,t_training) #calculates weight matrix by multipling psuedo inverse and t_training\n",
        "        y_training = np.matmul(X_training,w) #calculates y_training by multipling X_training and w\n",
        "        training_nrmse[i, j] = np.sqrt(np.mean(np.square(y_training - t_training))) / np.std(t_training) #calculating training_nrmse\n",
        "        y_validate = np.matmul(X_validate,w) #calculates y_validation matrix by multiplying X_validate and w\n",
        "        validate_nrmse[i, j] = np.sqrt(np.mean(np.square(y_validate - t_validate))) / np.std(t_validate) #calculates validate_nrmse\n",
        "\n",
        "# Plot the results as box plots\n",
        "plt.boxplot(training_nrmse, labels=number_of_variables)\n",
        "plt.title('Training NRMSE vs Number of variables using pseudo inverse method')\n",
        "plt.xlabel('Number of variables')\n",
        "plt.ylabel('Training_NRMSE')\n",
        "plt.show()\n",
        "\n",
        "\n",
        "plt.boxplot(validate_nrmse, labels=number_of_variables)\n",
        "plt.title('Validation NRMSE vs Number of variables using pseudo inverse method')\n",
        "plt.xlabel('Number of variables')\n",
        "plt.ylabel('Validation_NRMSE')\n",
        "plt.show()"
      ],
      "metadata": {
        "colab": {
          "base_uri": "https://localhost:8080/",
          "height": 590
        },
        "id": "GhuQrmcjZLzl",
        "outputId": "e059663d-2f6c-407c-c20e-7bfbc0dad2c7"
      },
      "execution_count": null,
      "outputs": [
        {
          "name": "stdout",
          "output_type": "stream",
          "text": [
            "Enter the number of samples: 100\n"
          ]
        },
        {
          "output_type": "display_data",
          "data": {
            "text/plain": [
              "<Figure size 432x288 with 1 Axes>"
            ],
            "image/png": "[encoded data removed]"
          },
          "metadata": {
            "needs_background": "light"
          }
        },
        {
          "output_type": "display_data",
          "data": {
            "text/plain": [
              "<Figure size 432x288 with 1 Axes>"
            ],
            "image/png": "[encoded data removed]"
          },
          "metadata": {
            "needs_background": "light"
          }
        }
      ]
    },
    {
      "cell_type": "markdown",
      "source": [
        "As the number of variables increase, NRMSE is decreasing in training data and increasing in validation NRMSE."
      ],
      "metadata": {
        "id": "2utOLlZOrAKD"
      }
    },
    {
      "cell_type": "markdown",
      "source": [
        "13. c) Running multiple experiments (with different random seeds) for different values of noise variance and plotting the results in the box plots between Training_NRMSE vs noise variance and validation NRMSE vs noise variance"
      ],
      "metadata": {
        "id": "Fm-_P2nUs3pJ"
      }
    },
    {
      "cell_type": "code",
      "source": [
        "import numpy as np\n",
        "import matplotlib.pyplot as plt  #importing matplotlib.pylot as plt for plotting box plots\n",
        "from sklearn.model_selection import train_test_split #importing train_test_split for splitting training and validation sets\n",
        "m=int(input(\"Enter the number of samples: \")) #Takes a number from user\n",
        "n=int(input(\"Enter the number of feature dimensions: \")) #Takes a number from user\n",
        "w0=1 #initialising bias\n",
        "Number_of_experiments = 500 #initialising number of experiments needed\n",
        "noise_variance = [0,0.5,1,1.5,2,2.5,3,3.5] #Initialising an array for noise variances\n",
        "training_nrmse = np.zeros((Number_of_experiments, len(noise_variance))) #initialising training_nrmse to zeros of order Number_of_experiments and noise_variance\n",
        "validate_nrmse = np.zeros((Number_of_experiments, len(noise_variance))) #initialising validate_nrmse to zeros of order Number_of_experiments and noise_variance\n",
        "for i in range(Number_of_experiments): #loop to repeat experiments from 0 to 499\n",
        "    for j in range(len(noise_variance)): #repeats loop from 0 to len(noise_variance)\n",
        "        np.random.seed(i) #creates a random matrix X with same elements in inner for loop(for same seed value) for each noise_variance\n",
        "        X = np.random.rand(m,n) #creates a random matrix of size (no_of_samples, n) in each loop \n",
        "        w_training = np.random.rand(n, 1) #creates a radom weight matrix for training \n",
        "        t=np.dot(X, w_training) +w0+ np.random.normal(0, noise_variance[j], size=(m,1)) #creates a target vector with various values of noise_variance\n",
        "        X_training,X_validate,t_training,t_validate=train_test_split(X, t, test_size=0.5) #Splits data from X to X_training and X_validate, t to t_training and t_validate\n",
        "        X_psuedo=np.linalg.pinv(X_training) #calculates the psuedo inverse of X\n",
        "        w = np.matmul(X_psuedo,t_training) #calculates weight matrix by multipling psuedo inverse and t_training\n",
        "        y_training = np.matmul(X_training,w) #calculates y_training by multipling X_training and w\n",
        "        training_nrmse[i, j] = np.sqrt(np.mean(np.square(y_training - t_training))) / np.std(t_training) #calculating training_nrmse\n",
        "        y_validate = np.matmul(X_validate,w) #calculates y_validation matrix by multiplying X_validate and w\n",
        "        validate_nrmse[i, j] = np.sqrt(np.mean(np.square(y_validate - t_validate))) / np.std(t_validate) #calculates validate_nrmse\n",
        "\n",
        "# Plot the results as box plots\n",
        "plt.boxplot(training_nrmse, labels=noise_variance)\n",
        "plt.title('Training NRMSE vs Noise variance using pseudo inverse method')\n",
        "plt.xlabel('Noise Varaince')\n",
        "plt.ylabel('Training_NRMSE')\n",
        "plt.show()\n",
        "\n",
        "\n",
        "plt.boxplot(validate_nrmse, labels=noise_variance)\n",
        "plt.title('Validation NRMSE vs Noise variance using pseudo inverse method')\n",
        "plt.xlabel('Noise Variance')\n",
        "plt.ylabel('Validation_NRMSE')\n",
        "plt.show()"
      ],
      "metadata": {
        "colab": {
          "base_uri": "https://localhost:8080/",
          "height": 608
        },
        "id": "ByWdMC6bs5Zp",
        "outputId": "ece4d612-a304-461b-d339-763d65679399"
      },
      "execution_count": null,
      "outputs": [
        {
          "name": "stdout",
          "output_type": "stream",
          "text": [
            "Enter the number of samples: 30\n",
            "Enter the number of feature dimensions: 7\n"
          ]
        },
        {
          "output_type": "display_data",
          "data": {
            "text/plain": [
              "<Figure size 432x288 with 1 Axes>"
            ],
            "image/png": "[encoded data removed]"
          },
          "metadata": {
            "needs_background": "light"
          }
        },
        {
          "output_type": "display_data",
          "data": {
            "text/plain": [
              "<Figure size 432x288 with 1 Axes>"
            ],
            "image/png": "[encoded data removed]"
          },
          "metadata": {
            "needs_background": "light"
          }
        }
      ]
    },
    {
      "cell_type": "markdown",
      "source": [
        "As the noise variance increases, NMRSE is initially increasing and becomes saturated in both training and validation."
      ],
      "metadata": {
        "id": "1ZLPH0iYykso"
      }
    },
    {
      "cell_type": "markdown",
      "source": [
        "13. d)Running multiple experiments (with different random seeds) for different values of bias and plotting the results in the box plots between Training_NRMSE vs bias and validation NRMSE vs bias"
      ],
      "metadata": {
        "id": "bJUYYkOgy1Aj"
      }
    },
    {
      "cell_type": "code",
      "source": [
        "import numpy as np\n",
        "import matplotlib.pyplot as plt  #importing matplotlib.pylot as plt for plotting box plots\n",
        "from sklearn.model_selection import train_test_split #importing train_test_split for splitting training and validation sets\n",
        "m=int(input(\"Enter the number of samples: \")) #Takes a number from user\n",
        "n=int(input(\"Enter the number of feature dimensions: \")) #Takes a number from user\n",
        "w0=[0.5,1,1.5,2,2.5,3,3.5] #initialising bias array for different values\n",
        "Number_of_experiments = 500 #initialising number of experiments needed\n",
        "noise_variance = 1 #Initialising noise variance\n",
        "training_nrmse = np.zeros((Number_of_experiments, len(w0))) #initialising training_nrmse to zeros of order Number_of_experiments and w0\n",
        "validate_nrmse = np.zeros((Number_of_experiments, len(w0))) #initialising validate_nrmse to zeros of order Number_of_experiments and w0\n",
        "for i in range(Number_of_experiments): #loop to repeat experiments from 0 to 499\n",
        "    for j in range(len(w0)): #repeats loop from 0 to len(w0)\n",
        "        np.random.seed(i) #creates a random matrix X with same elements in inner for loop(for same seed value) for each w0\n",
        "        X = np.random.rand(m,n) #creates a random matrix of size (no_of_samples, n) in each loop \n",
        "        w_training = np.random.rand(n, 1) #creates a radom weight matrix for training \n",
        "        t=np.dot(X, w_training) +w0[j]+ np.random.normal(0,noise_variance, size=(m,1)) #creates a target vector with various values of w0\n",
        "        X_training,X_validate,t_training,t_validate=train_test_split(X, t, test_size=0.5) #Splits data from X to X_training and X_validate, t to t_training and t_validate\n",
        "        X_psuedo=np.linalg.pinv(X_training) #calculates the psuedo inverse of X\n",
        "        w = np.matmul(X_psuedo,t_training) #calculates weight matrix by multipling psuedo inverse and t_training\n",
        "        y_training = np.matmul(X_training,w) #calculates y_training by multipling X_training and w\n",
        "        training_nrmse[i, j] = np.sqrt(np.mean(np.square(y_training - t_training))) / np.std(t_training) #calculating training_nrmse\n",
        "        y_validate = np.matmul(X_validate,w) #calculates y_validation matrix by multiplying X_validate and w\n",
        "        validate_nrmse[i, j] = np.sqrt(np.mean(np.square(y_validate - t_validate))) / np.std(t_validate) #calculates validate_nrmse\n",
        "\n",
        "# Plot the results as box plots\n",
        "plt.boxplot(training_nrmse, labels=w0)\n",
        "plt.title('Training NRMSE vs Bias using pseudo inverse method')\n",
        "plt.xlabel('Noise Varaince')\n",
        "plt.ylabel('Training_NRMSE')\n",
        "plt.show()\n",
        "\n",
        "\n",
        "plt.boxplot(validate_nrmse, labels=w0)\n",
        "plt.title('Validation NRMSE vs Bias using pseudo inverse method')\n",
        "plt.xlabel('Noise Variance')\n",
        "plt.ylabel('Validation_NRMSE')\n",
        "plt.show()"
      ],
      "metadata": {
        "colab": {
          "base_uri": "https://localhost:8080/",
          "height": 608
        },
        "id": "K5IKE6WfyS6U",
        "outputId": "61826448-73a1-42bc-8dc1-18553f44f06c"
      },
      "execution_count": null,
      "outputs": [
        {
          "name": "stdout",
          "output_type": "stream",
          "text": [
            "Enter the number of samples: 30\n",
            "Enter the number of feature dimensions: 7\n"
          ]
        },
        {
          "output_type": "display_data",
          "data": {
            "text/plain": [
              "<Figure size 432x288 with 1 Axes>"
            ],
            "image/png": "[encoded data removed]"
          },
          "metadata": {
            "needs_background": "light"
          }
        },
        {
          "output_type": "display_data",
          "data": {
            "text/plain": [
              "<Figure size 432x288 with 1 Axes>"
            ],
            "image/png": "[encoded data removed]"
          },
          "metadata": {
            "needs_background": "light"
          }
        }
      ]
    },
    {
      "cell_type": "markdown",
      "source": [
        "As the value of bias increases, NMRSE for both validation and training data is increasing"
      ],
      "metadata": {
        "id": "780oWyuF69a_"
      }
    },
    {
      "cell_type": "markdown",
      "source": [
        "14. \n",
        "a) I have learnt how to create a random matrix of certain order by using numpy library in python\n",
        "b) We have taken every matrix by random.rand function, it will take all random values. So RMSE in some questions might be very high.\n",
        "c) Learnt how to calculate, gradient of L2 and L1 norms with respect to weight vectors.\n",
        "d) Learnt how to plot box plots by using matplotlib.pyplot library\n",
        "e) Learnt using train_test_split library to split a matrix into two matrices. It will get splitted into two by splitting random rows of matrix into each according to the given percentage \n",
        "f) I have learnt the concept of random.seed(i), for same value of i, it gives same numbers. \n",
        "g) Learnt how NMRSE is changing wrt to change in number of samples, number of variables, bias, noise variances. \n"
      ],
      "metadata": {
        "id": "u4zyUrwrWarx"
      }
    },
    {
      "cell_type": "markdown",
      "source": [
        "15.\n",
        "I have discussed questions and concepts with Nallala Venkata Pavan Kumar and Chakravarthi Marri holding roll numbers 22M1082 and 22M0127 respectively. References: www.geeksforgeeks.org  and www.medium.com"
      ],
      "metadata": {
        "id": "m7jl61CUr7Ww"
      }
    }
  ]
}